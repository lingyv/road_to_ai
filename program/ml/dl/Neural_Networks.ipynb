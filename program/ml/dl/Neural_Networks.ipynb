{
 "cells": [
  {
   "cell_type": "markdown",
   "metadata": {},
   "source": [
    "步骤:\n",
    "1. 导入数据\n",
    "2. 初始化参数\n",
    "3. 正向传播\n",
    "4. 计算成本\n",
    "5. 反向传播\n",
    "6. 更新参数\n",
    "7. 循环3 ~ 6"
   ]
  },
  {
   "cell_type": "code",
   "execution_count": 1,
   "metadata": {
    "collapsed": true
   },
   "outputs": [],
   "source": [
    "# 引入依赖包\n",
    "import time\n",
    "import numpy as np\n",
    "import h5py\n",
    "import matplotlib.pyplot as plt\n",
    "import scipy\n",
    "from PIL import Image\n",
    "from scipy import ndimage\n",
    "\n",
    "%matplotlib inline\n",
    "plt.rcParams['figure.figsize'] = (5.0, 4.0)\n",
    "plt.rcParams['image.interpolation'] = 'nearest'\n",
    "plt.rcParams['image.cmap'] = 'gray'\n",
    "\n",
    "%load_ext autoreload\n",
    "%autoreload 2\n",
    "\n",
    "np.random.seed(1)"
   ]
  },
  {
   "cell_type": "code",
   "execution_count": 2,
   "metadata": {
    "collapsed": true
   },
   "outputs": [],
   "source": [
    "# 导入数据\n",
    "def load_data():\n",
    "    train_dataset = h5py.File('datasets/train_catvnoncat.h5', \"r\")\n",
    "    train_set_x_orig = np.array(train_dataset[\"train_set_x\"][:]) # 训练数据特征\n",
    "    train_set_y_orig = np.array(train_dataset[\"train_set_y\"][:]) # 训练数据标签\n",
    "\n",
    "    test_dataset = h5py.File('datasets/test_catvnoncat.h5', \"r\")\n",
    "    test_set_x_orig = np.array(test_dataset[\"test_set_x\"][:]) # 测试数据特征\n",
    "    test_set_y_orig = np.array(test_dataset[\"test_set_y\"][:]) # 测试数据标签\n",
    "\n",
    "    classes = np.array(test_dataset[\"list_classes\"][:]) # 类别list\n",
    "    \n",
    "    train_set_y_orig = train_set_y_orig.reshape((1, train_set_y_orig.shape[0]))\n",
    "    test_set_y_orig = test_set_y_orig.reshape((1, test_set_y_orig.shape[0]))\n",
    "    \n",
    "    return train_set_x_orig, train_set_y_orig, test_set_x_orig, test_set_y_orig, classes"
   ]
  },
  {
   "cell_type": "code",
   "execution_count": 3,
   "metadata": {
    "collapsed": true
   },
   "outputs": [],
   "source": [
    "# 导入图片\n",
    "train_x_orig, train_y, test_x_orig, test_y, classes = load_data()"
   ]
  },
  {
   "cell_type": "code",
   "execution_count": 4,
   "metadata": {},
   "outputs": [
    {
     "name": "stdout",
     "output_type": "stream",
     "text": [
      "训练样本数量: 209\n",
      "测试样本数量: 50\n",
      "每张图片的大小: (64, 64, 3)\n",
      "train_x_orig 形状: (209, 64, 64, 3)\n",
      "train_y 形状: (1, 209)\n",
      "test_x_orig 形状: (50, 64, 64, 3)\n",
      "test_y 形状: (1, 50)\n"
     ]
    }
   ],
   "source": [
    "# 显示图片相关信息\n",
    "m_train = train_x_orig.shape[0]\n",
    "num_px = train_x_orig.shape[1]\n",
    "m_test = test_x_orig.shape[0]\n",
    "\n",
    "print (\"训练样本数量: \" + str(m_train))\n",
    "print (\"测试样本数量: \" + str(m_test))\n",
    "print (\"每张图片的大小: (\" + str(num_px) + \", \" + str(num_px) + \", 3)\")\n",
    "print (\"train_x_orig 形状: \" + str(train_x_orig.shape))\n",
    "print (\"train_y 形状: \" + str(train_y.shape))\n",
    "print (\"test_x_orig 形状: \" + str(test_x_orig.shape))\n",
    "print (\"test_y 形状: \" + str(test_y.shape))"
   ]
  },
  {
   "cell_type": "code",
   "execution_count": 5,
   "metadata": {},
   "outputs": [
    {
     "name": "stdout",
     "output_type": "stream",
     "text": [
      "train_x 的形状: (12288, 209)\n",
      "test_x 的形状: (12288, 50)\n"
     ]
    }
   ],
   "source": [
    "#将图片转成矩阵 --> 矩阵中一列对应一张图片\n",
    "train_x_flatten = train_x_orig.reshape(train_x_orig.shape[0], -1).T\n",
    "test_x_flatten = test_x_orig.reshape(test_x_orig.shape[0], -1).T\n",
    "\n",
    "# 处理特征值 --> 使特征介于0和1之间\n",
    "train_x = train_x_flatten/255.\n",
    "test_x = test_x_flatten/255.\n",
    "\n",
    "print (\"train_x 的形状: \" + str(train_x.shape))\n",
    "print (\"test_x 的形状: \" + str(test_x.shape))"
   ]
  },
  {
   "cell_type": "code",
   "execution_count": 6,
   "metadata": {
    "collapsed": true
   },
   "outputs": [],
   "source": [
    "# 定义 sigmoid 模型\n",
    "def sigmoid(Z):\n",
    "    \"\"\"\n",
    "    使用 numpy 实现 sigmoid 函数\n",
    "    \n",
    "    Arguments:\n",
    "    Z -- numpy array\n",
    "    \n",
    "    Returns:\n",
    "    A -- sigmoid(z) 函数输出, 与 Z 形状相同\n",
    "    cache -- 缓存 Z, 以后在反向传播中使用\n",
    "    \"\"\"\n",
    "    \n",
    "    A = 1/(1+np.exp(-Z))\n",
    "    cache = Z\n",
    "    \n",
    "    return A, cache\n",
    "\n",
    "# sigmoid 函数求导\n",
    "def sigmoid_backward(dA, cache):\n",
    "    \"\"\"\n",
    "    对单个 sigmoid 节点实现反向传播.\n",
    "    \n",
    "    Arguments:\n",
    "    dA -- 成本 cost 对 A 的梯度\n",
    "    cache -- 'Z' 之前缓存的线性函数值\n",
    "    Returns:\n",
    "    dZ -- 成本 cost 对 Z 的梯度\n",
    "    \"\"\"\n",
    "    \n",
    "    Z = cache\n",
    "    \n",
    "    s = 1/(1+np.exp(-Z))\n",
    "    dZ = dA * s * (1-s)\n",
    "    \n",
    "    assert (dZ.shape == Z.shape)\n",
    "    \n",
    "    return dZ"
   ]
  },
  {
   "cell_type": "code",
   "execution_count": 7,
   "metadata": {
    "collapsed": true
   },
   "outputs": [],
   "source": [
    "# 定义 relu 模型\n",
    "def relu(Z):\n",
    "    \"\"\"\n",
    "    实现 RELU 函数\n",
    "    \n",
    "    Arguments:\n",
    "    Z -- 线性函数输出\n",
    "    Returns:\n",
    "    A -- RELU 函数输出, 与 Z 形状相同\n",
    "    cache -- python 字典, 缓存了 Z\n",
    "    \"\"\"\n",
    "    \n",
    "    A = np.maximum(0,Z)\n",
    "    \n",
    "    assert(A.shape == Z.shape)\n",
    "    \n",
    "    cache = Z \n",
    "    return A, cache\n",
    "\n",
    "# relu函数求导\n",
    "def relu_backward(dA, cache):\n",
    "    \"\"\"\n",
    "    对单个 RELU 节点实现反向传播\n",
    "    \n",
    "    Arguments:\n",
    "    dA -- 成本 cost 对 A 的梯度\n",
    "    cache -- 缓存了 Z\n",
    "    Returns:\n",
    "    dZ -- 成本 cost 对 Z 的梯度\n",
    "    \"\"\"\n",
    "    \n",
    "    Z = cache\n",
    "    dZ = np.array(dA, copy=True)\n",
    "    \n",
    "    # 当 z <= 0, dZ 等于 0. \n",
    "    dZ[Z <= 0] = 0\n",
    "    \n",
    "    assert (dZ.shape == Z.shape)\n",
    "    \n",
    "    return dZ\n"
   ]
  },
  {
   "cell_type": "code",
   "execution_count": 8,
   "metadata": {
    "collapsed": true
   },
   "outputs": [],
   "source": [
    "# 初始化参数\n",
    "def initialize_parameters(layer_dims):\n",
    "    \"\"\"\n",
    "    Arguments:\n",
    "    layer_dims -- 定义神经网络形状的 python array (list)\n",
    "    \n",
    "    Returns:\n",
    "    parameters -- python 字典, 缓存了参数 \"W1\", \"b1\", ..., \"WL\", \"bL\":\n",
    "                    Wl -- 形状是 (layer_dims[l], layer_dims[l-1]) 的权重矩阵\n",
    "                    bl -- 形状是 (layer_dims[l], 1) 的偏置向量\n",
    "    \"\"\"\n",
    "    \n",
    "    np.random.seed(1)\n",
    "    parameters = {}\n",
    "    L = len(layer_dims)            # 神经网络层数\n",
    "\n",
    "    for l in range(1, L):\n",
    "        parameters['W' + str(l)] = np.random.randn(layer_dims[l], layer_dims[l-1]) / np.sqrt(layer_dims[l-1]) #*0.01\n",
    "        parameters['b' + str(l)] = np.zeros((layer_dims[l], 1))\n",
    "        \n",
    "        assert(parameters['W' + str(l)].shape == (layer_dims[l], layer_dims[l-1]))\n",
    "        assert(parameters['b' + str(l)].shape == (layer_dims[l], 1))\n",
    "\n",
    "        \n",
    "    return parameters "
   ]
  },
  {
   "cell_type": "code",
   "execution_count": 9,
   "metadata": {
    "collapsed": true
   },
   "outputs": [],
   "source": [
    "# 计算线性函数 Z 的值 --> Z = W*A + b\n",
    "def linear_forward(A, W, b):\n",
    "    \"\"\"\n",
    "    实现单层线性部分的正向传播\n",
    "    \n",
    "    Arguments:\n",
    "    A -- 上层(或输入)的激活值,形状: (上层维度, 样本数量)\n",
    "    W -- 权重矩阵, numpy array 形状: (当前层维度, 上层维度)\n",
    "    b -- 偏置向量, numpy array 形状: (当前层维度, 1)\n",
    "    Returns:\n",
    "    Z -- 激活函数输入, 也称为 pre-activation parameter \n",
    "    cache -- 一个 python 字典,保存 \"A\", \"W\" and \"b\" ; \n",
    "    \"\"\"\n",
    "    \n",
    "    Z = W.dot(A) + b\n",
    "    \n",
    "    assert(Z.shape == (W.shape[0], A.shape[1]))\n",
    "    cache = (A, W, b)\n",
    "    \n",
    "    return Z, cache\n",
    "\n",
    "# 计算激活函数 A 的值 --> A = g(Z)\n",
    "def linear_activation_forward(A_prev, W, b, activation):\n",
    "    \"\"\"\n",
    "    对 LINEAR->ACTIVATION 层实现正向传播\n",
    "    \n",
    "    Arguments:\n",
    "    A_prev -- 上层(或输入)的激活值,形状: (上层维度, 样本数量)\n",
    "    W -- 权重矩阵, numpy array 形状: (当前层维度, 上层维度)\n",
    "    b -- 偏置向量, numpy array 形状: (当前层维度, 1)\n",
    "    activation -- 激活函数类型: \"sigmoid\" 或 \"relu\"\n",
    "    Returns:\n",
    "    A -- 激活函数输出, 也称为 the post-activation value \n",
    "    cache -- 一个 python 字典 保存 \"linear_cache\" 和 \"activation_cache\";\n",
    "    \"\"\"\n",
    "    \n",
    "    if activation == \"sigmoid\":\n",
    "        # 输入: \"A_prev, W, b\". 输出: \"A, activation_cache\".\n",
    "        Z, linear_cache = linear_forward(A_prev, W, b)\n",
    "        A, activation_cache = sigmoid(Z)\n",
    "    \n",
    "    elif activation == \"relu\":\n",
    "        # 输入: \"A_prev, W, b\". 输出: \"A, activation_cache\".\n",
    "        Z, linear_cache = linear_forward(A_prev, W, b)\n",
    "        A, activation_cache = relu(Z)\n",
    "    \n",
    "    assert (A.shape == (W.shape[0], A_prev.shape[1]))\n",
    "    cache = (linear_cache, activation_cache)\n",
    "\n",
    "    return A, cache"
   ]
  },
  {
   "cell_type": "code",
   "execution_count": 10,
   "metadata": {
    "collapsed": true
   },
   "outputs": [],
   "source": [
    "# 正向传播\n",
    "def L_model_forward(X, parameters):\n",
    "    \"\"\"\n",
    "    对[LINEAR->RELU]*(L-1)->LINEAR->SIGMOID实现正向传播\n",
    "    \n",
    "    Arguments:\n",
    "    X -- data, numpy array 形状 (特征数量, 样本数量)\n",
    "    parameters -- initialize_parameters() 初始化函数输出\n",
    "    \n",
    "    Returns:\n",
    "    AL -- last post-activation value\n",
    "    caches -- 缓存列表 保存:\n",
    "                每一个 linear_relu_forward() (有 L-1 个, 索引从 0 到 L-2) 的缓存\n",
    "                linear_sigmoid_forward() (有一个, 索引 L-1) 的缓存\n",
    "    \"\"\"\n",
    "\n",
    "    caches = []\n",
    "    A = X\n",
    "    L = len(parameters) // 2                  # 神经网络层数\n",
    "    \n",
    "    # 实现 [LINEAR -> RELU]*(L-1). 添加 \"cache\" 到 \"caches\" list.\n",
    "    for l in range(1, L):\n",
    "        A_prev = A \n",
    "        A, cache = linear_activation_forward(A_prev, parameters['W' + str(l)], parameters['b' + str(l)], activation = \"relu\")\n",
    "        caches.append(cache)\n",
    "    \n",
    "    # 实现 LINEAR -> SIGMOID. 添加 \"cache\" 到 \"caches\" list.\n",
    "    AL, cache = linear_activation_forward(A, parameters['W' + str(L)], parameters['b' + str(L)], activation = \"sigmoid\")\n",
    "    caches.append(cache)\n",
    "    \n",
    "    assert(AL.shape == (1,X.shape[1]))\n",
    "            \n",
    "    return AL, caches"
   ]
  },
  {
   "cell_type": "code",
   "execution_count": 11,
   "metadata": {
    "collapsed": true
   },
   "outputs": [],
   "source": [
    "# 计算成本\n",
    "def compute_cost(AL, Y):\n",
    "    \"\"\"\n",
    "    实现成本计算\n",
    "    \n",
    "    Arguments:\n",
    "    AL -- 对每个样本预测的概率向量, 形状 (1, 样本数量)\n",
    "    Y -- 标签向量 (for example: containing 0 if non-cat, 1 if cat), 形状 (1, 样本数量)\n",
    "    Returns:\n",
    "    cost -- 交叉熵成本\n",
    "    \"\"\"\n",
    "    \n",
    "    m = Y.shape[1]\n",
    "\n",
    "    # 根据 aL 和 y计算损失.\n",
    "    cost = (1./m) * (-np.dot(Y,np.log(AL).T) - np.dot(1-Y, np.log(1-AL).T))\n",
    "    \n",
    "    cost = np.squeeze(cost)      # 确保成本的形状是我们期望的(e.g. this turns [[17]] into 17).\n",
    "    assert(cost.shape == ())\n",
    "    \n",
    "    return cost"
   ]
  },
  {
   "cell_type": "code",
   "execution_count": 12,
   "metadata": {
    "collapsed": true
   },
   "outputs": [],
   "source": [
    "# 计算线性函数 Z 的导数 --> dW, db, dA_prev\n",
    "def linear_backward(dZ, cache):\n",
    "    \"\"\"\n",
    "    对第l层的线性部分实现反向传播\n",
    "    \n",
    "    Arguments:\n",
    "    dZ -- 成本对当前第 l 层线性输出的梯度\n",
    "    cache -- tuple, 当前层正向传播时保存的: (A_prev, W, b) \n",
    "    Returns:\n",
    "    dA_prev -- 成本对第 l-1 层激活值的梯度, 与 A_prev 形状相同\n",
    "    dW -- 成本对当前第 l 层权重 W 的梯度,与 W 形状相同\n",
    "    db -- 成本对当前第 l 层偏置 b 的梯度,与 b 形状相同\n",
    "    \"\"\"\n",
    "    A_prev, W, b = cache\n",
    "    m = A_prev.shape[1]\n",
    "\n",
    "    dW = 1./m * np.dot(dZ,A_prev.T)\n",
    "    db = 1./m * np.sum(dZ, axis = 1, keepdims = True)\n",
    "    dA_prev = np.dot(W.T,dZ)\n",
    "    \n",
    "    assert (dA_prev.shape == A_prev.shape)\n",
    "    assert (dW.shape == W.shape)\n",
    "    assert (db.shape == b.shape)\n",
    "    \n",
    "    return dA_prev, dW, db\n",
    "\n",
    "# 计算激活函数 A 的导数 --> dZ\n",
    "def linear_activation_backward(dA, cache, activation):\n",
    "    \"\"\"\n",
    "    对 LINEAR->ACTIVATION 层实现反向传播\n",
    "    \n",
    "    Arguments:\n",
    "    dA -- 当前第 l 层 post-activation 的梯度\n",
    "    cache -- tuple: (linear_cache, activation_cache)\n",
    "    activation -- 激活函数: \"sigmoid\" 或 \"relu\"\n",
    "    \n",
    "    Returns:\n",
    "    dA_prev -- 成本对第 l-1 层激活函数的梯度, 与 A_prev 形状相同\n",
    "    dW -- 成本对当前第 l 层的权重 W 的梯度, 与 W 形状相同\n",
    "    db -- 成本对当前第 l 层的偏置 b 的梯度,与 b 形状相同\n",
    "    \"\"\"\n",
    "    linear_cache, activation_cache = cache\n",
    "    \n",
    "    if activation == \"relu\":\n",
    "        dZ = relu_backward(dA, activation_cache)\n",
    "        dA_prev, dW, db = linear_backward(dZ, linear_cache)\n",
    "        \n",
    "    elif activation == \"sigmoid\":\n",
    "        dZ = sigmoid_backward(dA, activation_cache)\n",
    "        dA_prev, dW, db = linear_backward(dZ, linear_cache)\n",
    "    \n",
    "    return dA_prev, dW, db"
   ]
  },
  {
   "cell_type": "code",
   "execution_count": 13,
   "metadata": {
    "collapsed": true
   },
   "outputs": [],
   "source": [
    "# 反向传播\n",
    "def L_model_backward(AL, Y, caches):\n",
    "    \"\"\"\n",
    "    对  [LINEAR->RELU] * (L-1) -> LINEAR -> SIGMOID 实现反向传播\n",
    "\n",
    "    Arguments:\n",
    "    AL -- 概率向量, 正向传播的输出 (L_model_forward())\n",
    "    Y -- 标签向量 (containing 0 if non-cat, 1 if cat)\n",
    "    caches -- 缓存列表 保存:\n",
    "                每一个 linear_activation_forward() with \"relu\" (有 L-1 个, 索引从 0 到 L-2) 的缓存\n",
    "                linear_activation_forward() with \"sigmoid\" (有 1 个, 索引 L-1) 的缓存\n",
    "    \n",
    "    Returns:\n",
    "    grads -- 梯度字典:\n",
    "             grads[\"dA\" + str(l)] = ... \n",
    "             grads[\"dW\" + str(l)] = ...\n",
    "             grads[\"db\" + str(l)] = ... \n",
    "    \"\"\"\n",
    "    grads = {}\n",
    "    L = len(caches) # 层数\n",
    "    m = AL.shape[1]\n",
    "    Y = Y.reshape(AL.shape) # 令 Y 的形状与 AL 相同\n",
    "    \n",
    "    # 初始化反向传播\n",
    "    dAL = - (np.divide(Y, AL) - np.divide(1 - Y, 1 - AL))\n",
    "    \n",
    "    # 第 L 层 (SIGMOID -> LINEAR) 的梯度. 输入: \"AL, Y, caches\". 输出: \"grads[\"dAL\"], grads[\"dWL\"], grads[\"dbL\"]\n",
    "    current_cache = caches[L-1]\n",
    "    grads[\"dA\" + str(L)], grads[\"dW\" + str(L)], grads[\"db\" + str(L)] = linear_activation_backward(dAL, current_cache, activation = \"sigmoid\")\n",
    "    \n",
    "    for l in reversed(range(L-1)):\n",
    "        # 第 l 层: (RELU -> LINEAR) 的梯度.\n",
    "        current_cache = caches[l]\n",
    "        dA_prev_temp, dW_temp, db_temp = linear_activation_backward(grads[\"dA\" + str(l + 2)], current_cache, activation = \"relu\")\n",
    "        grads[\"dA\" + str(l + 1)] = dA_prev_temp\n",
    "        grads[\"dW\" + str(l + 1)] = dW_temp\n",
    "        grads[\"db\" + str(l + 1)] = db_temp\n",
    "\n",
    "    return grads"
   ]
  },
  {
   "cell_type": "code",
   "execution_count": 14,
   "metadata": {
    "collapsed": true
   },
   "outputs": [],
   "source": [
    "# 更新参数\n",
    "def update_parameters(parameters, grads, learning_rate):\n",
    "    \"\"\"\n",
    "    使用梯度下降更新参数\n",
    "\n",
    "    Arguments:\n",
    "    parameters -- 保存参数的 python 字典 \n",
    "    grads -- 保存梯度的 python 字典,L_model_backward 的输出\n",
    "    \n",
    "    Returns:\n",
    "    parameters -- 保存更新后参数的 python 字典\n",
    "                  parameters[\"W\" + str(l)] = ... \n",
    "                  parameters[\"b\" + str(l)] = ...\n",
    "    \"\"\"\n",
    "    \n",
    "    L = len(parameters) // 2 # 神经网络的层数\n",
    "\n",
    "    # 使用循环更新每一个参数\n",
    "    for l in range(L):\n",
    "        parameters[\"W\" + str(l+1)] = parameters[\"W\" + str(l+1)] - learning_rate * grads[\"dW\" + str(l+1)]\n",
    "        parameters[\"b\" + str(l+1)] = parameters[\"b\" + str(l+1)] - learning_rate * grads[\"db\" + str(l+1)]\n",
    "        \n",
    "    return parameters"
   ]
  },
  {
   "cell_type": "code",
   "execution_count": 15,
   "metadata": {
    "collapsed": true
   },
   "outputs": [],
   "source": [
    "# 训练\n",
    "def L_layer_model(X, Y, layers_dims, learning_rate = 0.0075, num_iterations = 3000, print_cost=False):#lr was 0.009\n",
    "    \"\"\"\n",
    "    实现一个 L 层神经网络: [LINEAR->RELU]*(L-1)->LINEAR->SIGMOID.\n",
    "\n",
    "    Arguments:\n",
    "    X -- 数据, numpy array 形状: (样本数量, 行像素 * num_px * 3)\n",
    "    Y -- 标签向量 (containing 0 if cat, 1 if non-cat), 形状: (1, 样本数量)\n",
    "    layers_dims -- 含有输入维度和每层维度的列表, length (层数 + 1).\n",
    "    learning_rate -- 梯度下降学习速率\n",
    "    num_iterations -- 梯度下降次数\n",
    "    print_cost -- 是否打印成本(每 100 个循环打印一次成本)\n",
    "    \n",
    "    Returns:\n",
    "    parameters -- 模型学习的参数,可以用来预测\n",
    "    \"\"\"\n",
    "\n",
    "    np.random.seed(1)\n",
    "    costs = []                         # 记录成本\n",
    "    \n",
    "    # 初始化参数.\n",
    "    parameters = initialize_parameters(layers_dims)\n",
    "    \n",
    "    # 循环 (梯度下降)\n",
    "    for i in range(0, num_iterations):\n",
    "\n",
    "        # 正向传播: [LINEAR -> RELU]*(L-1) -> LINEAR -> SIGMOID.\n",
    "        AL, caches = L_model_forward(X, parameters)\n",
    "        \n",
    "        # 计算成本.\n",
    "        cost = compute_cost(AL, Y)\n",
    "    \n",
    "        # 反向传播.\n",
    "        grads = L_model_backward(AL, Y, caches)\n",
    " \n",
    "        # 更新参数.\n",
    "        parameters = update_parameters(parameters, grads, learning_rate)\n",
    "                \n",
    "        # 每 100 次循环打印一次成本\n",
    "        if print_cost and i % 100 == 0:\n",
    "            print (\"Cost after iteration %i: %f\" %(i, cost))\n",
    "        if print_cost and i % 100 == 0:\n",
    "            costs.append(cost)\n",
    "            \n",
    "    # 绘出成本曲线\n",
    "    plt.plot(np.squeeze(costs))\n",
    "    plt.ylabel('cost')\n",
    "    plt.xlabel('iterations (per tens)')\n",
    "    plt.title(\"Learning rate =\" + str(learning_rate))\n",
    "    plt.show()\n",
    "    \n",
    "    return parameters"
   ]
  },
  {
   "cell_type": "code",
   "execution_count": 16,
   "metadata": {
    "collapsed": true
   },
   "outputs": [],
   "source": [
    "# 准确率计算\n",
    "def predict(X, y, parameters):\n",
    "    \"\"\"\n",
    "    使用 L 层神经网络预测结果\n",
    "\n",
    "    Arguments:\n",
    "    X -- 想要预测的样本数据\n",
    "    parameters -- 训练模型的参数\n",
    "    \n",
    "    Returns:\n",
    "    p -- 对样本 X 的预测\n",
    "    \"\"\"\n",
    "    \n",
    "    m = X.shape[1]\n",
    "    n = len(parameters) // 2 # 神经网络的层数\n",
    "    p = np.zeros((1,m))\n",
    "    \n",
    "    # 正向传播\n",
    "    probas, caches = L_model_forward(X, parameters)\n",
    "\n",
    "    \n",
    "    # 将预测概率转换成 0/1\n",
    "    for i in range(0, probas.shape[1]):\n",
    "        if probas[0,i] > 0.5:\n",
    "            p[0,i] = 1\n",
    "        else:\n",
    "            p[0,i] = 0\n",
    "    \n",
    "    #打印结果\n",
    "    #print (\"predictions: \" + str(p))\n",
    "    #print (\"true labels: \" + str(y))\n",
    "    print(\"Accuracy: \"  + str(np.sum((p == y)/m)))\n",
    "        \n",
    "    return p"
   ]
  },
  {
   "cell_type": "code",
   "execution_count": 17,
   "metadata": {
    "scrolled": true
   },
   "outputs": [
    {
     "name": "stdout",
     "output_type": "stream",
     "text": [
      "Cost after iteration 0: 0.771749\n",
      "Cost after iteration 100: 0.672053\n",
      "Cost after iteration 200: 0.648263\n",
      "Cost after iteration 300: 0.611507\n",
      "Cost after iteration 400: 0.567047\n",
      "Cost after iteration 500: 0.540138\n",
      "Cost after iteration 600: 0.527930\n",
      "Cost after iteration 700: 0.465477\n",
      "Cost after iteration 800: 0.369126\n",
      "Cost after iteration 900: 0.391747\n",
      "Cost after iteration 1000: 0.315187\n",
      "Cost after iteration 1100: 0.272700\n",
      "Cost after iteration 1200: 0.237419\n",
      "Cost after iteration 1300: 0.199601\n",
      "Cost after iteration 1400: 0.189263\n",
      "Cost after iteration 1500: 0.161189\n",
      "Cost after iteration 1600: 0.148214\n",
      "Cost after iteration 1700: 0.137775\n",
      "Cost after iteration 1800: 0.129740\n",
      "Cost after iteration 1900: 0.121225\n",
      "Cost after iteration 2000: 0.113821\n",
      "Cost after iteration 2100: 0.107839\n",
      "Cost after iteration 2200: 0.102855\n",
      "Cost after iteration 2300: 0.100897\n",
      "Cost after iteration 2400: 0.092878\n"
     ]
    },
    {
     "data": {
      "image/png": "[encoded data removed]",
      "text/plain": [
       "<matplotlib.figure.Figure at 0x98bb278>"
      ]
     },
     "metadata": {},
     "output_type": "display_data"
    }
   ],
   "source": [
    "# 开始训练\n",
    "layers_dims = [12288, 20, 7, 5, 1] #  5 层网络,输入(第0层) 12288 维,第1层 20 维, 第2层 7 维,第3层 5 维,第4层 1 维\n",
    "parameters = L_layer_model(train_x, train_y, layers_dims, num_iterations = 2500, print_cost = True)"
   ]
  },
  {
   "cell_type": "code",
   "execution_count": 27,
   "metadata": {},
   "outputs": [
    {
     "name": "stdout",
     "output_type": "stream",
     "text": [
      "Accuracy: 0.985645933014\n"
     ]
    }
   ],
   "source": [
    "# 计算训练准确率\n",
    "pred_train = predict(train_x, train_y, parameters)"
   ]
  },
  {
   "cell_type": "code",
   "execution_count": 28,
   "metadata": {},
   "outputs": [
    {
     "name": "stdout",
     "output_type": "stream",
     "text": [
      "Accuracy: 0.8\n"
     ]
    }
   ],
   "source": [
    "# 计算测试准确率\n",
    "pred_test = predict(test_x, test_y, parameters)"
   ]
  },
  {
   "cell_type": "code",
   "execution_count": 29,
   "metadata": {},
   "outputs": [
    {
     "name": "stdout",
     "output_type": "stream",
     "text": [
      "Accuracy: 1.0\n",
      "y = 1.0, your L-layer model predicts a \"cat\" picture.\n"
     ]
    },
    {
     "data": {
      "image/png": "[encoded data removed]",
      "text/plain": [
       "<matplotlib.figure.Figure at 0xb3e5898>"
      ]
     },
     "metadata": {},
     "output_type": "display_data"
    }
   ],
   "source": [
    "#指定图片测试\n",
    "my_image = \"maoqiu.jpg\"\n",
    "my_label_y = [1] # the true class of your image (1 -> cat, 0 -> non-cat)\n",
    "\n",
    "fname = \"images/\" + my_image\n",
    "image = np.array(ndimage.imread(fname, flatten=False))\n",
    "my_image = scipy.misc.imresize(image, size=(num_px,num_px)).reshape((num_px*num_px*3,1))\n",
    "my_predicted_image = predict(my_image, my_label_y, parameters)\n",
    "\n",
    "plt.imshow(image)\n",
    "print (\"y = \" + str(np.squeeze(my_predicted_image)) + \", your L-layer model predicts a \\\"\" + classes[int(np.squeeze(my_predicted_image)),].decode(\"utf-8\") +  \"\\\" picture.\")"
   ]
  },
  {
   "cell_type": "code",
   "execution_count": null,
   "metadata": {
    "collapsed": true
   },
   "outputs": [],
   "source": []
  }
 ],
 "metadata": {
  "kernelspec": {
   "display_name": "Python 3",
   "language": "python",
   "name": "python3"
  },
  "language_info": {
   "codemirror_mode": {
    "name": "ipython",
    "version": 3
   },
   "file_extension": ".py",
   "mimetype": "text/x-python",
   "name": "python",
   "nbconvert_exporter": "python",
   "pygments_lexer": "ipython3",
   "version": "3.6.3"
  }
 },
 "nbformat": 4,
 "nbformat_minor": 2
}
